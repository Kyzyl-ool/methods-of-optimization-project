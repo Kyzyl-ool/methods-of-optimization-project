{
  "nbformat": 4,
  "nbformat_minor": 0,
  "metadata": {
    "colab": {
      "name": "Copy of Untitled0.ipynb",
      "provenance": [],
      "collapsed_sections": []
    },
    "kernelspec": {
      "name": "python3",
      "display_name": "Python 3"
    }
  },
  "cells": [
    {
      "cell_type": "code",
      "metadata": {
        "id": "_rIVg8jn5c-1",
        "colab_type": "code",
        "colab": {}
      },
      "source": [
        "import torch \n",
        "import torch.nn as nn\n",
        "from matplotlib import pyplot as plt"
      ],
      "execution_count": 0,
      "outputs": []
    },
    {
      "cell_type": "code",
      "metadata": {
        "id": "f3A74Cr-SLIL",
        "colab_type": "code",
        "colab": {}
      },
      "source": [
        "eps = 1e-2\n",
        "rho = 1\n",
        "l = 0.1\n",
        "c_ = 2\n",
        "T_eps = int(l/(rho*eps)**0.5+1)*10\n",
        "L = 5"
      ],
      "execution_count": 0,
      "outputs": []
    },
    {
      "cell_type": "code",
      "metadata": {
        "id": "jDGvA2mXLxkT",
        "colab_type": "code",
        "colab": {}
      },
      "source": [
        "X = torch.randn(1000,10,1)\n",
        "c_true = torch.rand(1, 10)\n",
        "Y = c_true @ X + torch.randn(1000, 1, 1) * 0.1"
      ],
      "execution_count": 0,
      "outputs": []
    },
    {
      "cell_type": "code",
      "metadata": {
        "id": "HW3FFbmrcst6",
        "colab_type": "code",
        "colab": {
          "base_uri": "https://localhost:8080/",
          "height": 51
        },
        "outputId": "9d015b70-9b8b-492d-c64c-24607225b1ba"
      },
      "source": [
        "c_true"
      ],
      "execution_count": 55,
      "outputs": [
        {
          "output_type": "execute_result",
          "data": {
            "text/plain": [
              "tensor([[0.4828, 0.1032, 0.7481, 0.5261, 0.4966, 0.0204, 0.5854, 0.1696, 0.2488,\n",
              "         0.0127]])"
            ]
          },
          "metadata": {
            "tags": []
          },
          "execution_count": 55
        }
      ]
    },
    {
      "cell_type": "code",
      "metadata": {
        "id": "EaLlvVId92Hy",
        "colab_type": "code",
        "colab": {}
      },
      "source": [
        "def rosenbrock(x, y, w):\n",
        "    value = (1 - w - x - y) ** 2 + 100 * (1 - (w + x + y) ** 2) ** 2\n",
        "    return value.mean()"
      ],
      "execution_count": 0,
      "outputs": []
    },
    {
      "cell_type": "code",
      "metadata": {
        "id": "WPYi7ufc6vCG",
        "colab_type": "code",
        "colab": {}
      },
      "source": [
        "def f(x, y, w):\n",
        "    return torch.norm(w @ x - y).pow(4).mean()\n",
        "    t = w[0][0]\n",
        "    eps_sqrt = eps**0.5\n",
        "    if t <= -L*eps_sqrt:\n",
        "      return eps_sqrt*(t+(L+1)*eps_sqrt)**2 - 1/3*(t + (L+1)*eps_sqrt)**3 - 1/3*(3*L+1)*eps**(3/2)\n",
        "    if -L*eps_sqrt < t <= -eps_sqrt:\n",
        "      return eps*t+eps*(3/2)/3\n",
        "    if -eps_sqrt < t <=0:\n",
        "      return -eps_sqrt*t**2 - t**3/3\n",
        "    if 0 < t <= eps_sqrt:\n",
        "      return -eps_sqrt*t**2 + t**3/3\n",
        "    if eps_sqrt < t <= L*eps_sqrt:\n",
        "      return -eps*t+eps**(3/2)/3\n",
        "    if L*eps_sqrt <= t:\n",
        "      return eps_sqrt*(t - (L+1)*eps_sqrt)**2 + 1/3*(t - (L+1)*eps_sqrt)**3 - 1/3*(3*L+1)*eps**(3/2)"
      ],
      "execution_count": 0,
      "outputs": []
    },
    {
      "cell_type": "code",
      "metadata": {
        "id": "_ypbWpQaRO2p",
        "colab_type": "code",
        "colab": {}
      },
      "source": [
        "def batch(X, Y, batch_size=2):\n",
        "    indices = torch.randperm(X.size(0))[:batch_size]\n",
        "    return X[indices], Y[indices]"
      ],
      "execution_count": 0,
      "outputs": []
    },
    {
      "cell_type": "code",
      "metadata": {
        "id": "uijSvD-nCV66",
        "colab_type": "code",
        "colab": {}
      },
      "source": [
        "def cubic_regularization(eps=None):\n",
        "    w = torch.randn(1, 10, requires_grad=True)\n",
        "    c = -(eps ** 3 / rho) ** (0.5) / 100\n",
        "    w_norm_history = []\n",
        "    for i in range(100):\n",
        "        if i % 10 == 0: print(w)\n",
        "        x, y = batch(X, Y)\n",
        "        f(x, y, w).backward()\n",
        "        grad = w.grad.clone()/100\n",
        "        hessian = torch.autograd.functional.hessian(f, inputs=(x, y, w))[2][2].squeeze().squeeze()/100\n",
        "        delta, delta_m = cubic_subsolver(grad, hessian, eps)\n",
        "        w_new = w.detach() + delta\n",
        "        if delta_m.item() >= c:\n",
        "            delta = cubic_finalsolver(grad, hessian, eps)\n",
        "            return w + delta, w_norm_history\n",
        "        w = w_new\n",
        "        w.requires_grad = True\n",
        "        w_norm_history.append(torch.norm(w - c_true).item())\n",
        "    return w, w_norm_history"
      ],
      "execution_count": 0,
      "outputs": []
    },
    {
      "cell_type": "code",
      "metadata": {
        "id": "nDmLVh74FbwO",
        "colab_type": "code",
        "colab": {}
      },
      "source": [
        "def cubic_subsolver(grad, hessian, eps):\n",
        "    g_norm = torch.norm(grad)\n",
        "    # print(g_norm)\n",
        "    if g_norm > l**2 / rho:\n",
        "        temp = grad @ hessian @ grad.T / rho / g_norm.pow(2) \n",
        "        R_c = -temp + torch.sqrt(temp.pow(2) + 2 * g_norm / rho)\n",
        "        delta = -R_c * grad / g_norm\n",
        "    else:\n",
        "        delta = torch.zeros(grad.size())\n",
        "        sigma = c_ * (eps * rho)**0.5 / l\n",
        "        mu = 1.0 / (20.0 * l)\n",
        "        vec = -torch.rand(grad.size())*2 + torch.ones(grad.size())\n",
        "        vec /= torch.norm(vec)\n",
        "        g_ = grad + sigma * vec\n",
        "        # g_ = grad\n",
        "        for _ in range(T_eps):\n",
        "            delta -= mu *(g_ + delta @ hessian + rho / 2 * torch.norm(delta) * delta)\n",
        "        \n",
        "    delta_m = grad @ delta.T + delta @ hessian @ delta.T / 2 + rho / 6 * torch.norm(delta).pow(3)\n",
        "    return delta, delta_m"
      ],
      "execution_count": 0,
      "outputs": []
    },
    {
      "cell_type": "code",
      "metadata": {
        "id": "eNZGW-V5Efgv",
        "colab_type": "code",
        "colab": {}
      },
      "source": [
        "def cubic_finalsolver(grad, hessian, eps):\n",
        "    delta = torch.zeros(grad.size())\n",
        "    g_m = grad\n",
        "    print(torch.norm(g_m))\n",
        "    mu = 1 / (20 * l)\n",
        "    while torch.norm(g_m) > eps/2:\n",
        "        delta -= mu * g_m\n",
        "        g_m = grad + delta @ hessian + rho / 2 * torch.norm(delta) * delta\n",
        "    return delta"
      ],
      "execution_count": 0,
      "outputs": []
    },
    {
      "cell_type": "code",
      "metadata": {
        "id": "msaGLO55zbGI",
        "colab_type": "code",
        "colab": {
          "base_uri": "https://localhost:8080/",
          "height": 51
        },
        "outputId": "59aa9900-ec0f-4aac-b867-01c34affaadf"
      },
      "source": [
        "c_true"
      ],
      "execution_count": 107,
      "outputs": [
        {
          "output_type": "execute_result",
          "data": {
            "text/plain": [
              "tensor([[0.4828, 0.1032, 0.7481, 0.5261, 0.4966, 0.0204, 0.5854, 0.1696, 0.2488,\n",
              "         0.0127]])"
            ]
          },
          "metadata": {
            "tags": []
          },
          "execution_count": 107
        }
      ]
    },
    {
      "cell_type": "code",
      "metadata": {
        "id": "9XL5mb8rS9jh",
        "colab_type": "code",
        "colab": {
          "base_uri": "https://localhost:8080/",
          "height": 187
        },
        "outputId": "3ec8e168-461d-4a8c-844c-f260c7355b43"
      },
      "source": [
        "w0, hist = cubic_regularization(eps)\n",
        "print(w0)"
      ],
      "execution_count": 108,
      "outputs": [
        {
          "output_type": "stream",
          "text": [
            "tensor([[-0.1905, -0.6181,  0.0187, -0.2390, -1.2034, -0.2535,  0.4507, -0.8767,\n",
            "          0.6222,  0.6722]], requires_grad=True)\n",
            "tensor([[ 0.1707, -0.1809,  0.2822,  0.3808, -0.4329, -0.1584,  0.3988, -0.7068,\n",
            "          0.5366,  0.0734]], requires_grad=True)\n",
            "tensor([[ 0.2665, -0.1712,  0.3891,  0.4338, -0.0084, -0.1159,  0.5071, -0.1882,\n",
            "          0.6515,  0.1726]], requires_grad=True)\n",
            "tensor(0.0020)\n",
            "tensor([[ 4.1827e-01, -8.6350e-02,  5.5787e-01,  4.8142e-01,  1.1322e-01,\n",
            "          2.0705e-04,  4.6000e-01,  3.5408e-03,  5.2995e-01,  1.7385e-01]],\n",
            "       grad_fn=<AddBackward0>)\n"
          ],
          "name": "stdout"
        }
      ]
    },
    {
      "cell_type": "code",
      "metadata": {
        "id": "zpnEIziSTLqN",
        "colab_type": "code",
        "outputId": "599ead18-2a43-47a6-e2e7-f862edbe47fc",
        "colab": {
          "base_uri": "https://localhost:8080/",
          "height": 279
        }
      },
      "source": [
        "plt.plot(range(len(hist)), hist)\n",
        "plt.xlabel('Number of iteration (log)')\n",
        "plt.ylabel('Loss (log)')\n",
        "# plt.xscale('log')\n",
        "plt.yscale('log')\n",
        "plt.show()"
      ],
      "execution_count": 109,
      "outputs": [
        {
          "output_type": "display_data",
          "data": {
            "image/png": "[encoded data removed]",
            "text/plain": [
              "<Figure size 432x288 with 1 Axes>"
            ]
          },
          "metadata": {
            "tags": [],
            "needs_background": "light"
          }
        }
      ]
    },
    {
      "cell_type": "code",
      "metadata": {
        "id": "dbQI-Y2iYchG",
        "colab_type": "code",
        "outputId": "95f16548-7a80-4d68-f0e9-902cafd66167",
        "colab": {
          "base_uri": "https://localhost:8080/",
          "height": 130
        }
      },
      "source": [
        "|"
      ],
      "execution_count": 110,
      "outputs": [
        {
          "output_type": "error",
          "ename": "SyntaxError",
          "evalue": "ignored",
          "traceback": [
            "\u001b[0;36m  File \u001b[0;32m\"<ipython-input-110-4b37ef281455>\"\u001b[0;36m, line \u001b[0;32m1\u001b[0m\n\u001b[0;31m    |\u001b[0m\n\u001b[0m    ^\u001b[0m\n\u001b[0;31mSyntaxError\u001b[0m\u001b[0;31m:\u001b[0m invalid syntax\n"
          ]
        }
      ]
    },
    {
      "cell_type": "code",
      "metadata": {
        "id": "Le6ui8i5YfKS",
        "colab_type": "code",
        "colab": {}
      },
      "source": [
        ""
      ],
      "execution_count": 0,
      "outputs": []
    },
    {
      "cell_type": "code",
      "metadata": {
        "id": "MeUguUA_s5bE",
        "colab_type": "code",
        "colab": {}
      },
      "source": [
        ""
      ],
      "execution_count": 0,
      "outputs": []
    }
  ]
}