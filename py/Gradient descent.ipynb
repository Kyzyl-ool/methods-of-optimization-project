{
 "cells": [
  {
   "cell_type": "code",
   "execution_count": 18,
   "metadata": {},
   "outputs": [],
   "source": [
    "import torch\n",
    "from matplotlib import pyplot as plt"
   ]
  },
  {
   "cell_type": "code",
   "execution_count": 19,
   "metadata": {},
   "outputs": [],
   "source": [
    "def rosenbrock(x, y):\n",
    "    value = (1 - x) ** 2 + 100 * (y - x ** 2) ** 2\n",
    "    return value.mean()"
   ]
  },
  {
   "cell_type": "code",
   "execution_count": 20,
   "metadata": {},
   "outputs": [],
   "source": [
    "def f(x):\n",
    "    return rosenbrock(x, torch.ones(2))"
   ]
  },
  {
   "cell_type": "code",
   "execution_count": 21,
   "metadata": {},
   "outputs": [
    {
     "name": "stdout",
     "output_type": "stream",
     "text": [
      "tensor(5.3113e+09, grad_fn=<MeanBackward0>)\n",
      "Step # 0, loss: 5311256576.0\n",
      "Step # 2000, loss: 66.06668090820312\n",
      "Step # 4000, loss: 6.343019485473633\n",
      "Step # 6000, loss: 0.9838019013404846\n",
      "Step # 8000, loss: 0.17784753441810608\n",
      "Step # 10000, loss: 0.03415161743760109\n",
      "Step # 12000, loss: 0.006732507608830929\n",
      "Step # 14000, loss: 0.0013452412094920874\n",
      "Step # 16000, loss: 0.0002716227318160236\n",
      "Step # 18000, loss: 5.8608777180779725e-05\n",
      "Step # 20000, loss: 8.84709425008623e-06\n",
      "Step # 22000, loss: 8.84709425008623e-06\n",
      "Step # 24000, loss: 8.84709425008623e-06\n",
      "Step # 26000, loss: 8.84709425008623e-06\n",
      "Step # 28000, loss: 8.84709425008623e-06\n",
      "Step # 30000, loss: 8.84709425008623e-06\n",
      "Step # 32000, loss: 8.84709425008623e-06\n",
      "Step # 34000, loss: 8.84709425008623e-06\n",
      "Step # 36000, loss: 8.84709425008623e-06\n",
      "Step # 38000, loss: 8.84709425008623e-06\n",
      "Step # 40000, loss: 8.84709425008623e-06\n",
      "Step # 42000, loss: 8.84709425008623e-06\n",
      "Step # 44000, loss: 8.84709425008623e-06\n",
      "Step # 46000, loss: 8.84709425008623e-06\n",
      "Step # 48000, loss: 8.84709425008623e-06\n"
     ]
    }
   ],
   "source": [
    "params = torch.tensor([100., 50.])\n",
    "params.requires_grad_()\n",
    "\n",
    "print(f(params))\n",
    "# Do gradient descent\n",
    "n_optim_steps = int(5e4)\n",
    "optimizer = torch.optim.SGD([params], 1e-6)\n",
    "\n",
    "X, Y = [], []\n",
    "\n",
    "for ii in range(n_optim_steps):\n",
    "    optimizer.zero_grad()\n",
    "    loss = f(params)\n",
    "    \n",
    "\n",
    "    if ii % 2000 == 0: print('Step # {}, loss: {}'.format(ii, loss.item()))\n",
    "    loss.backward()\n",
    "    # Access gradient if necessary\n",
    "    grad = params.grad.data\n",
    "    optimizer.step()\n",
    "    X.append(ii)\n",
    "    Y.append(loss.item())"
   ]
  },
  {
   "cell_type": "code",
   "execution_count": 28,
   "metadata": {},
   "outputs": [
    {
     "data": {
      "image/png": "[encoded data removed]",
      "text/plain": [
       "<Figure size 432x288 with 1 Axes>"
      ]
     },
     "metadata": {
      "needs_background": "light"
     },
     "output_type": "display_data"
    }
   ],
   "source": [
    "plt.plot(X, Y)\n",
    "plt.yscale('log')\n",
    "# plt.xscale('log')\n",
    "plt.xlabel('Number of iteration')\n",
    "plt.ylabel('Loss')\n",
    "plt.show()"
   ]
  },
  {
   "cell_type": "code",
   "execution_count": null,
   "metadata": {},
   "outputs": [],
   "source": []
  }
 ],
 "metadata": {
  "kernelspec": {
   "display_name": "Python 3",
   "language": "python",
   "name": "python3"
  },
  "language_info": {
   "codemirror_mode": {
    "name": "ipython",
    "version": 3
   },
   "file_extension": ".py",
   "mimetype": "text/x-python",
   "name": "python",
   "nbconvert_exporter": "python",
   "pygments_lexer": "ipython3",
   "version": "3.7.7"
  }
 },
 "nbformat": 4,
 "nbformat_minor": 4
}
